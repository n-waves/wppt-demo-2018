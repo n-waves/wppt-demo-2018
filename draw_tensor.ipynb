{
 "cells": [
  {
   "cell_type": "code",
   "execution_count": 1,
   "metadata": {},
   "outputs": [],
   "source": [
    "import ipyvolume as ipv\n",
    "import numpy as np\n",
    "import torch\n",
    "import torch.nn.functional as F"
   ]
  },
  {
   "cell_type": "code",
   "execution_count": 2,
   "metadata": {},
   "outputs": [],
   "source": [
    "#    7       6\n",
    "# 3      2   \n",
    "#    \n",
    "#    4       5\n",
    "# 0      1\n",
    "\n",
    "def new_agg():\n",
    "    agg = {}\n",
    "    agg['shift'] = 0\n",
    "    agg['x'] = []\n",
    "    agg['y'] = []\n",
    "    agg['z'] = []\n",
    "    agg['color'] = []\n",
    "    agg['triangles'] = []\n",
    "    return agg\n",
    "\n",
    "def plot_agg(agg):\n",
    "    ipv.plot_trisurf(np.concatenate(agg['x']),\n",
    "                     np.concatenate(agg['y']),\n",
    "                     np.concatenate(agg['z']),\n",
    "                     triangles = np.concatenate(agg['triangles']),\n",
    "                     color = agg['color']\n",
    "                    )\n",
    "    \n",
    "def aggregate_plots(agg, x, y, z, triangles, color):\n",
    "    s = agg['shift']\n",
    "    agg['x'].append(x)\n",
    "    agg['y'].append(y)\n",
    "    agg['z'].append(z)\n",
    "    agg['color'].extend([color] * len(x))\n",
    "    agg['triangles'].append(triangles + s)\n",
    "    agg['shift'] += len(x)\n",
    "\n",
    "def cube(agg, x, y, z, width, height, depth, color=\"gray\"):\n",
    "    pointsx = np.array([0.0, width, width, 0.0, 0.0, width, width, 0.0]) + x\n",
    "    pointsy = np.array([0.0, 0.0, height, height, 0.0, 0.0, height, height]) + y\n",
    "    pointsz = np.array([0.0, 0.0, 0.0, 0.0, depth, depth, depth, depth]) + z\n",
    "    triangles = np.array([0, 1, 2, 0, 2, 3,\n",
    "                 4, 7, 5, 5, 7, 6,\n",
    "                 1, 5, 6, 1, 6, 2,\n",
    "                 0, 3, 4, 4, 3, 7,\n",
    "                 3, 2, 7, 2, 6, 7,\n",
    "                 0, 1, 5, 0, 5, 4\n",
    "                 ], dtype=np.int)\n",
    "    aggregate_plots(agg, pointsx, pointsy, pointsz, triangles=triangles, color=color)\n",
    "\n",
    "def draw_tensor(tensor, rgb=False, W=32, H=32, Cskip=1, BSskip=1, BSYskip=1, scale=True):\n",
    "    tensor = torch.FloatTensor(tensor.cpu())\n",
    "    while len(tensor.shape) < 5:\n",
    "        tensor = tensor[None, ...]\n",
    "    H = min(H, tensor.shape[-2])\n",
    "    W = min(W, tensor.shape[-1])\n",
    "    tensor = tensor[::BSYskip, ::BSskip, ::Cskip, :, :]\n",
    "    \n",
    "    tensor = torch.stack([F.adaptive_avg_pool2d(t, (H, W)) for t in tensor])\n",
    "    if scale:\n",
    "        max_value = (tensor.max(dim=-1)[0].max(dim=-1)[0])[..., None, None]\n",
    "        min_value = (tensor.min(dim=-1)[0].min(dim=-1)[0])[..., None, None]\n",
    "        scale_by = (max_value - min_value).clamp_min(0.01)\n",
    "        tensor = (tensor - min_value) / scale_by\n",
    "    tensor = tensor.numpy()\n",
    "    bsy, bs, c, h, w = tensor.shape\n",
    "    if rgb:\n",
    "        colors = np.array([[1.0,0.0,0.0], [0.0,1.0,0.0], [0.0, 0.0, 1.0]])\n",
    "    else:\n",
    "        colors = np.array([[1.0, 1.0, 1.0]])\n",
    "    agg = new_agg()\n",
    "    tx = 1.0\n",
    "    ty = 1.0\n",
    "    tc = 1.2\n",
    "    sx = -(bs * (W * tx +1) - 1 - W) * 0.5\n",
    "    sy = -(bsy * (H * ty +1) - 1 - H) * 0.5\n",
    "    for by in range(bsy):\n",
    "        for b in range(bs):\n",
    "            for i in range(c):\n",
    "                for x in range(w):\n",
    "                    for y in range(h):\n",
    "                        cube(agg, x * tx + sx + (W * 1.1 +1) * b, (h - y - 1) * ty + sy + (H * 1.1 +1) * by, -i * tc, 1.0, 1.0, 1.0, colors[i % len(colors)] * tensor[by, b, i, y, x])\n",
    "    ipv.clear()\n",
    "    ipv.figure(width=400, height=400, controls=False, controls_light=False)\n",
    "    ipv.style.box_off()        \n",
    "    plot_agg(agg)\n",
    "    ipv.xyzlabel(\"W\", \"H\", \"C\")\n",
    "    m = max(w, h, c*1.1)\n",
    "    ipv.xyzlim(0,m)\n",
    "    ipv.show()\n",
    "\n",
    "def draw_image_tensor(*args, **kwargs):\n",
    "    kwargs['rgb'] = True\n",
    "    draw_tensor(*args, **kwargs)"
   ]
  },
  {
   "cell_type": "code",
   "execution_count": 3,
   "metadata": {},
   "outputs": [],
   "source": [
    "from fastai import *\n",
    "from fastai.vision import *\n",
    "\n",
    "path = untar_data(URLs.PETS)\n",
    "\n",
    "path_anno = path/'annotations'\n",
    "path_img = path/'images'\n",
    "\n",
    "fnames = get_image_files(path_img)\n",
    "\n",
    "np.random.seed(2)\n",
    "pat = r'/([^/]+)_\\d+.jpg$'"
   ]
  },
  {
   "cell_type": "code",
   "execution_count": 4,
   "metadata": {},
   "outputs": [
    {
     "data": {
      "application/vnd.jupyter.widget-view+json": {
       "model_id": "5c4d6a213dcd41d586a2d6df14eda73c",
       "version_major": 2,
       "version_minor": 0
      },
      "text/plain": [
       "VBox(children=(Figure(camera=PerspectiveCamera(fov=46.0, position=(0.0, 0.0, 2.0), quaternion=(0.0, 0.0, 0.0, …"
      ]
     },
     "metadata": {},
     "output_type": "display_data"
    }
   ],
   "source": [
    "data = ImageDataBunch\\\n",
    "    .from_name_re(path_img, fnames, pat,\n",
    "        size=32, bs=4)\n",
    "x, y = data.one_batch()\n",
    "draw_image_tensor(x)"
   ]
  },
  {
   "cell_type": "code",
   "execution_count": 5,
   "metadata": {},
   "outputs": [
    {
     "data": {
      "application/vnd.jupyter.widget-view+json": {
       "model_id": "5a7e22ecad1c47a184746dd0c2fabfca",
       "version_major": 2,
       "version_minor": 0
      },
      "text/plain": [
       "VBox(children=(Figure(camera=PerspectiveCamera(fov=46.0, position=(0.0, 0.0, 2.0), quaternion=(0.0, 0.0, 0.0, …"
      ]
     },
     "metadata": {},
     "output_type": "display_data"
    }
   ],
   "source": [
    "learn = cnn_learner(data, models.resnet34)\n",
    "conv = learn.model[0][0]\n",
    "draw_image_tensor(conv.weight)"
   ]
  },
  {
   "cell_type": "code",
   "execution_count": 6,
   "metadata": {
    "scrolled": false
   },
   "outputs": [
    {
     "data": {
      "application/vnd.jupyter.widget-view+json": {
       "model_id": "c715ba5bb3f44a2da9a77f910a8702f2",
       "version_major": 2,
       "version_minor": 0
      },
      "text/plain": [
       "VBox(children=(Figure(camera=PerspectiveCamera(fov=46.0, position=(0.0, 0.0, 2.0), quaternion=(0.0, 0.0, 0.0, …"
      ]
     },
     "metadata": {},
     "output_type": "display_data"
    }
   ],
   "source": [
    "out = conv(x.cuda())\n",
    "draw_tensor(out)"
   ]
  }
 ],
 "metadata": {
  "kernelspec": {
   "display_name": "Python 3",
   "language": "python",
   "name": "python3"
  },
  "language_info": {
   "codemirror_mode": {
    "name": "ipython",
    "version": 3
   },
   "file_extension": ".py",
   "mimetype": "text/x-python",
   "name": "python",
   "nbconvert_exporter": "python",
   "pygments_lexer": "ipython3",
   "version": "3.7.1"
  }
 },
 "nbformat": 4,
 "nbformat_minor": 2
}
